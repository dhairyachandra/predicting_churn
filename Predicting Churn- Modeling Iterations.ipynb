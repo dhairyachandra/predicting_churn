{
 "cells": [
  {
   "cell_type": "markdown",
   "metadata": {},
   "source": [
    "# Predicting and Preventing Customer Churn: Modeling\n",
    "\n",
    "*In this notebook I take an iterative approach to modeling. If you're reading this and are only really interested in the final model then skip down towards the bottom the the section labeled 'Final Model'"
   ]
  },
  {
   "cell_type": "code",
   "execution_count": 127,
   "metadata": {},
   "outputs": [
    {
     "data": {
      "text/plain": [
       "RandomState(MT19937) at 0x12505C8D0"
      ]
     },
     "execution_count": 127,
     "metadata": {},
     "output_type": "execute_result"
    }
   ],
   "source": [
    "import pandas as pd\n",
    "import numpy as np\n",
    "import matplotlib.pyplot as plt\n",
    "%matplotlib inline\n",
    "import seaborn as sns\n",
    "np.random.RandomState(seed=42)"
   ]
  },
  {
   "cell_type": "code",
   "execution_count": 128,
   "metadata": {},
   "outputs": [
    {
     "data": {
      "text/html": [
       "<div>\n",
       "<style scoped>\n",
       "    .dataframe tbody tr th:only-of-type {\n",
       "        vertical-align: middle;\n",
       "    }\n",
       "\n",
       "    .dataframe tbody tr th {\n",
       "        vertical-align: top;\n",
       "    }\n",
       "\n",
       "    .dataframe thead th {\n",
       "        text-align: right;\n",
       "    }\n",
       "</style>\n",
       "<table border=\"1\" class=\"dataframe\">\n",
       "  <thead>\n",
       "    <tr style=\"text-align: right;\">\n",
       "      <th></th>\n",
       "      <th>Call  Failure</th>\n",
       "      <th>Complains</th>\n",
       "      <th>Subscription  Length</th>\n",
       "      <th>Charge  Amount</th>\n",
       "      <th>Seconds of Use</th>\n",
       "      <th>Frequency of use</th>\n",
       "      <th>Frequency of SMS</th>\n",
       "      <th>Distinct Called Numbers</th>\n",
       "      <th>Age Group</th>\n",
       "      <th>Tariff Plan</th>\n",
       "      <th>Status</th>\n",
       "      <th>Customer Value</th>\n",
       "      <th>Churn</th>\n",
       "    </tr>\n",
       "  </thead>\n",
       "  <tbody>\n",
       "    <tr>\n",
       "      <th>0</th>\n",
       "      <td>8</td>\n",
       "      <td>0</td>\n",
       "      <td>38</td>\n",
       "      <td>0</td>\n",
       "      <td>4370</td>\n",
       "      <td>71</td>\n",
       "      <td>5</td>\n",
       "      <td>17</td>\n",
       "      <td>3</td>\n",
       "      <td>1</td>\n",
       "      <td>1</td>\n",
       "      <td>197.640</td>\n",
       "      <td>0</td>\n",
       "    </tr>\n",
       "    <tr>\n",
       "      <th>1</th>\n",
       "      <td>0</td>\n",
       "      <td>0</td>\n",
       "      <td>39</td>\n",
       "      <td>0</td>\n",
       "      <td>318</td>\n",
       "      <td>5</td>\n",
       "      <td>7</td>\n",
       "      <td>4</td>\n",
       "      <td>2</td>\n",
       "      <td>1</td>\n",
       "      <td>2</td>\n",
       "      <td>46.035</td>\n",
       "      <td>0</td>\n",
       "    </tr>\n",
       "    <tr>\n",
       "      <th>2</th>\n",
       "      <td>10</td>\n",
       "      <td>0</td>\n",
       "      <td>37</td>\n",
       "      <td>0</td>\n",
       "      <td>2453</td>\n",
       "      <td>60</td>\n",
       "      <td>359</td>\n",
       "      <td>24</td>\n",
       "      <td>3</td>\n",
       "      <td>1</td>\n",
       "      <td>1</td>\n",
       "      <td>1536.520</td>\n",
       "      <td>0</td>\n",
       "    </tr>\n",
       "    <tr>\n",
       "      <th>3</th>\n",
       "      <td>10</td>\n",
       "      <td>0</td>\n",
       "      <td>38</td>\n",
       "      <td>0</td>\n",
       "      <td>4198</td>\n",
       "      <td>66</td>\n",
       "      <td>1</td>\n",
       "      <td>35</td>\n",
       "      <td>1</td>\n",
       "      <td>1</td>\n",
       "      <td>1</td>\n",
       "      <td>240.020</td>\n",
       "      <td>0</td>\n",
       "    </tr>\n",
       "    <tr>\n",
       "      <th>4</th>\n",
       "      <td>3</td>\n",
       "      <td>0</td>\n",
       "      <td>38</td>\n",
       "      <td>0</td>\n",
       "      <td>2393</td>\n",
       "      <td>58</td>\n",
       "      <td>2</td>\n",
       "      <td>33</td>\n",
       "      <td>1</td>\n",
       "      <td>1</td>\n",
       "      <td>1</td>\n",
       "      <td>145.805</td>\n",
       "      <td>0</td>\n",
       "    </tr>\n",
       "  </tbody>\n",
       "</table>\n",
       "</div>"
      ],
      "text/plain": [
       "   Call  Failure  Complains  Subscription  Length  Charge  Amount  \\\n",
       "0              8          0                    38               0   \n",
       "1              0          0                    39               0   \n",
       "2             10          0                    37               0   \n",
       "3             10          0                    38               0   \n",
       "4              3          0                    38               0   \n",
       "\n",
       "   Seconds of Use  Frequency of use  Frequency of SMS  \\\n",
       "0            4370                71                 5   \n",
       "1             318                 5                 7   \n",
       "2            2453                60               359   \n",
       "3            4198                66                 1   \n",
       "4            2393                58                 2   \n",
       "\n",
       "   Distinct Called Numbers  Age Group  Tariff Plan  Status  Customer Value  \\\n",
       "0                       17          3            1       1         197.640   \n",
       "1                        4          2            1       2          46.035   \n",
       "2                       24          3            1       1        1536.520   \n",
       "3                       35          1            1       1         240.020   \n",
       "4                       33          1            1       1         145.805   \n",
       "\n",
       "   Churn  \n",
       "0      0  \n",
       "1      0  \n",
       "2      0  \n",
       "3      0  \n",
       "4      0  "
      ]
     },
     "execution_count": 128,
     "metadata": {},
     "output_type": "execute_result"
    }
   ],
   "source": [
    "df= pd.read_csv('Telecom_Churn.csv', index_col= 0)\n",
    "df.head()"
   ]
  },
  {
   "cell_type": "markdown",
   "metadata": {},
   "source": [
    "### Before doing any modeling we want to look at our baseline churn rate. This will be relevant when looking at accurcy scores"
   ]
  },
  {
   "cell_type": "code",
   "execution_count": 129,
   "metadata": {},
   "outputs": [
    {
     "name": "stdout",
     "output_type": "stream",
     "text": [
      "84% did not churn.\n",
      "16% churned. This is our annual churn rate which is very important!!\n"
     ]
    }
   ],
   "source": [
    "total= len(df)\n",
    "churn= df.Churn.value_counts()\n",
    "\n",
    "print('{}% did not churn.'.format(round(churn[0]/total * 100)))\n",
    "print('{}% churned. This is our annual churn rate which is very important!!'.format(round(churn[1]/total * 100)))"
   ]
  },
  {
   "cell_type": "markdown",
   "metadata": {},
   "source": [
    "### Splitting Data into Train and Test"
   ]
  },
  {
   "cell_type": "code",
   "execution_count": 130,
   "metadata": {},
   "outputs": [],
   "source": [
    "from sklearn.model_selection import train_test_split\n",
    "from sklearn.preprocessing import StandardScaler\n",
    "X= df.drop(columns='Churn')\n",
    "y= df['Churn'].values\n",
    "x_train, x_test, y_train, y_test= train_test_split(X, y, test_size=0.3)"
   ]
  },
  {
   "cell_type": "markdown",
   "metadata": {},
   "source": [
    "## Logistic Regression Out of Box "
   ]
  },
  {
   "cell_type": "code",
   "execution_count": 131,
   "metadata": {},
   "outputs": [
    {
     "name": "stdout",
     "output_type": "stream",
     "text": [
      "Our X variables are Index(['Call  Failure', 'Complains', 'Subscription  Length', 'Charge  Amount',\n",
      "       'Seconds of Use', 'Frequency of use', 'Frequency of SMS',\n",
      "       'Distinct Called Numbers', 'Age Group', 'Tariff Plan', 'Status',\n",
      "       'Customer Value'],\n",
      "      dtype='object').\n",
      "\n",
      "\n",
      "(2205, 12)\n",
      "(945, 12)\n",
      "(2205,)\n",
      "(945,)\n"
     ]
    }
   ],
   "source": [
    "# Make sure our X-variables are correct\n",
    "print('Our X variables are {}.'.format(X.columns))\n",
    "print('\\n')\n",
    "# Make sure the shape of our test and train arrays looks correct\n",
    "print(x_train.shape)\n",
    "print(x_test.shape)\n",
    "print(y_train.shape)\n",
    "print(y_test.shape)"
   ]
  },
  {
   "cell_type": "code",
   "execution_count": 132,
   "metadata": {},
   "outputs": [
    {
     "name": "stdout",
     "output_type": "stream",
     "text": [
      "0.8645502645502645\n"
     ]
    },
    {
     "name": "stderr",
     "output_type": "stream",
     "text": [
      "/Users/jeremysilva/opt/anaconda3/lib/python3.7/site-packages/sklearn/linear_model/_logistic.py:764: ConvergenceWarning: lbfgs failed to converge (status=1):\n",
      "STOP: TOTAL NO. of ITERATIONS REACHED LIMIT.\n",
      "\n",
      "Increase the number of iterations (max_iter) or scale the data as shown in:\n",
      "    https://scikit-learn.org/stable/modules/preprocessing.html\n",
      "Please also refer to the documentation for alternative solver options:\n",
      "    https://scikit-learn.org/stable/modules/linear_model.html#logistic-regression\n",
      "  extra_warning_msg=_LOGISTIC_SOLVER_CONVERGENCE_MSG)\n"
     ]
    }
   ],
   "source": [
    "from sklearn.linear_model import LogisticRegression\n",
    "from sklearn import metrics\n",
    "# create model variables\n",
    "model= LogisticRegression()\n",
    "# fit the model\n",
    "result= model.fit(x_train, y_train)\n",
    "# make predictions\n",
    "y_pred= model.predict(x_test)\n",
    "\n",
    "# print the accuracy score\n",
    "print(metrics.accuracy_score(y_test, y_pred))\n",
    "\n",
    "\n",
    "\n",
    "\n"
   ]
  },
  {
   "cell_type": "code",
   "execution_count": 133,
   "metadata": {},
   "outputs": [
    {
     "data": {
      "text/plain": [
       "array([[748,  42],\n",
       "       [ 86,  69]])"
      ]
     },
     "execution_count": 133,
     "metadata": {},
     "output_type": "execute_result"
    }
   ],
   "source": [
    "cm= metrics.confusion_matrix(y_test, y_pred)\n",
    "cm"
   ]
  },
  {
   "cell_type": "code",
   "execution_count": 134,
   "metadata": {},
   "outputs": [
    {
     "data": {
      "text/plain": [
       "Text(34.0, 0.5, 'Actual')"
      ]
     },
     "execution_count": 134,
     "metadata": {},
     "output_type": "execute_result"
    },
    {
     "data": {
      "image/png": "[encoded data removed]",
      "text/plain": [
       "<Figure size 432x288 with 2 Axes>"
      ]
     },
     "metadata": {
      "needs_background": "light"
     },
     "output_type": "display_data"
    }
   ],
   "source": [
    "cm= metrics.confusion_matrix(y_test, y_pred)\n",
    "sns.heatmap(cm, annot=True, cmap= 'Pastel2')\n",
    "plt.xlabel('Predicted')\n",
    "plt.ylabel('Actual')"
   ]
  },
  {
   "cell_type": "code",
   "execution_count": 135,
   "metadata": {},
   "outputs": [
    {
     "name": "stdout",
     "output_type": "stream",
     "text": [
      "Of the 155 who actual churned the model predicted 45% of those true churns.\n"
     ]
    }
   ],
   "source": [
    "act_churn= cm[1,0] + cm[1,1]\n",
    "pred_churn= cm[1,1]\n",
    "print('Of the {} who actual churned the model predicted {}% of those true churns.'.format(act_churn, round(pred_churn/act_churn*100)))"
   ]
  },
  {
   "cell_type": "markdown",
   "metadata": {},
   "source": [
    "## Random Forest Out of Box"
   ]
  },
  {
   "cell_type": "code",
   "execution_count": 136,
   "metadata": {},
   "outputs": [
    {
     "name": "stdout",
     "output_type": "stream",
     "text": [
      "0.9481481481481482\n"
     ]
    }
   ],
   "source": [
    "from sklearn.ensemble import RandomForestClassifier\n",
    "model= RandomForestClassifier()\n",
    "result= model.fit(x_train, y_train)\n",
    "y_pred= model.predict(x_test)\n",
    "# print the accuracy score\n",
    "print(metrics.accuracy_score(y_test, y_pred))"
   ]
  },
  {
   "cell_type": "code",
   "execution_count": 137,
   "metadata": {},
   "outputs": [
    {
     "data": {
      "text/plain": [
       "array([[771,  19],\n",
       "       [ 30, 125]])"
      ]
     },
     "execution_count": 137,
     "metadata": {},
     "output_type": "execute_result"
    }
   ],
   "source": [
    "cm= metrics.confusion_matrix(y_test, y_pred)\n",
    "cm"
   ]
  },
  {
   "cell_type": "code",
   "execution_count": 138,
   "metadata": {},
   "outputs": [
    {
     "data": {
      "text/plain": [
       "Text(34.0, 0.5, 'Actual')"
      ]
     },
     "execution_count": 138,
     "metadata": {},
     "output_type": "execute_result"
    },
    {
     "data": {
      "image/png": "[encoded data removed]",
      "text/plain": [
       "<Figure size 432x288 with 2 Axes>"
      ]
     },
     "metadata": {
      "needs_background": "light"
     },
     "output_type": "display_data"
    }
   ],
   "source": [
    "sns.heatmap(cm, annot=True, cmap= 'Pastel2')\n",
    "plt.xlabel('Predicted')\n",
    "plt.ylabel('Actual')"
   ]
  },
  {
   "cell_type": "code",
   "execution_count": 139,
   "metadata": {},
   "outputs": [
    {
     "name": "stdout",
     "output_type": "stream",
     "text": [
      "Of the 155 who actual churned the model predicted 81% of those true churns.\n"
     ]
    }
   ],
   "source": [
    "act_churn= cm[1,0] + cm[1,1]\n",
    "pred_churn= cm[1,1]\n",
    "print('Of the {} who actual churned the model predicted {}% of those true churns.'.format(act_churn, round(pred_churn/act_churn*100)))"
   ]
  },
  {
   "cell_type": "markdown",
   "metadata": {},
   "source": [
    "### Utilizing SMOTE: Synthetic Minority Over-sampling Technique\n",
    "\n",
    "#### Creating a 1:1 ratio between Non churn and churn\n",
    "\n",
    "We will resample the training data such that the target class is balanced. Then we will retry some of our algorithms"
   ]
  },
  {
   "cell_type": "code",
   "execution_count": 140,
   "metadata": {},
   "outputs": [
    {
     "name": "stdout",
     "output_type": "stream",
     "text": [
      "(array([0, 1]), array([1865,  340])) [1865 1865]\n"
     ]
    }
   ],
   "source": [
    "#Import SMOTE from imblearn\n",
    "from imblearn.over_sampling import SMOTE\n",
    "\n",
    "# assign smote variable\n",
    "sm = SMOTE(random_state=12)\n",
    "# apply smote to our x_train and y_train \n",
    "x_train_smote, y_train_smote = sm.fit_sample(x_train, y_train)\n",
    "# Check to see what the class balance looks like now \n",
    "print (np.unique(y_train, return_counts=True) , np.bincount(y_train_smote))"
   ]
  },
  {
   "cell_type": "markdown",
   "metadata": {},
   "source": [
    "## Random Forest Out of Box with SMOTE"
   ]
  },
  {
   "cell_type": "code",
   "execution_count": 141,
   "metadata": {},
   "outputs": [
    {
     "name": "stdout",
     "output_type": "stream",
     "text": [
      "0.9439153439153439\n",
      "[[748  42]\n",
      " [ 11 144]]\n",
      "\n",
      "\n"
     ]
    },
    {
     "data": {
      "image/png": "[encoded data removed]",
      "text/plain": [
       "<Figure size 432x288 with 2 Axes>"
      ]
     },
     "metadata": {
      "needs_background": "light"
     },
     "output_type": "display_data"
    },
    {
     "name": "stdout",
     "output_type": "stream",
     "text": [
      "Of the 155 who actual churned the model predicted 93% of those true churns.\n"
     ]
    }
   ],
   "source": [
    "from sklearn.ensemble import RandomForestClassifier\n",
    "# establish model\n",
    "model= RandomForestClassifier()\n",
    "# fit model\n",
    "result= model.fit(x_train_smote, y_train_smote)\n",
    "# make predictions\n",
    "y_pred= model.predict(x_test)\n",
    "# print the accuracy score\n",
    "print(metrics.accuracy_score(y_test, y_pred))\n",
    "\n",
    "# print confusion matrix\n",
    "cm= metrics.confusion_matrix(y_test, y_pred)\n",
    "print(cm)\n",
    "print('\\n')\n",
    "\n",
    "# make confusion matrix more legable\n",
    "sns.heatmap(cm, annot=True, cmap= 'Pastel2')\n",
    "plt.xlabel('Predicted')\n",
    "plt.ylabel('Actual')\n",
    "plt.show()\n",
    "\n",
    "# total real churn\n",
    "act_churn= cm[1,0] + cm[1,1]\n",
    "# number of true churn that was accurately predicted\n",
    "pred_churn= cm[1,1]\n",
    "print('Of the {} who actual churned the model predicted {}% of those true churns.'.format(act_churn, round(pred_churn/act_churn*100)))"
   ]
  },
  {
   "cell_type": "markdown",
   "metadata": {},
   "source": [
    "## Logistic Regression Out of Box with SMOTE"
   ]
  },
  {
   "cell_type": "code",
   "execution_count": 142,
   "metadata": {},
   "outputs": [
    {
     "name": "stdout",
     "output_type": "stream",
     "text": [
      "0.7534391534391535\n",
      "[[585 205]\n",
      " [ 28 127]]\n",
      "\n",
      "\n"
     ]
    },
    {
     "name": "stderr",
     "output_type": "stream",
     "text": [
      "/Users/jeremysilva/opt/anaconda3/lib/python3.7/site-packages/sklearn/linear_model/_logistic.py:764: ConvergenceWarning: lbfgs failed to converge (status=1):\n",
      "STOP: TOTAL NO. of ITERATIONS REACHED LIMIT.\n",
      "\n",
      "Increase the number of iterations (max_iter) or scale the data as shown in:\n",
      "    https://scikit-learn.org/stable/modules/preprocessing.html\n",
      "Please also refer to the documentation for alternative solver options:\n",
      "    https://scikit-learn.org/stable/modules/linear_model.html#logistic-regression\n",
      "  extra_warning_msg=_LOGISTIC_SOLVER_CONVERGENCE_MSG)\n"
     ]
    },
    {
     "data": {
      "image/png": "[encoded data removed]",
      "text/plain": [
       "<Figure size 432x288 with 2 Axes>"
      ]
     },
     "metadata": {
      "needs_background": "light"
     },
     "output_type": "display_data"
    },
    {
     "name": "stdout",
     "output_type": "stream",
     "text": [
      "Of the 155 who actual churned predicted 82% of those true churns.\n"
     ]
    }
   ],
   "source": [
    "# establish model\n",
    "model= LogisticRegression()\n",
    "# fit model\n",
    "result= model.fit(x_train_smote, y_train_smote)\n",
    "# make predictions\n",
    "y_pred= model.predict(x_test)\n",
    "# print the accuracy score\n",
    "print(metrics.accuracy_score(y_test, y_pred))\n",
    "\n",
    "# print confusion matrix\n",
    "cm= metrics.confusion_matrix(y_test, y_pred)\n",
    "print(cm)\n",
    "print('\\n')\n",
    "\n",
    "# make confusion matrix more legable\n",
    "sns.heatmap(cm, annot=True, cmap= 'Pastel2')\n",
    "plt.xlabel('Predicted')\n",
    "plt.ylabel('Actual')\n",
    "plt.show()\n",
    "\n",
    "# total real churn\n",
    "act_churn= cm[1,0] + cm[1,1]\n",
    "# number of true churn that was accurately predicted\n",
    "pred_churn= cm[1,1]\n",
    "print('Of the {} who actual churned predicted {}% of those true churns.'.format(act_churn, round(pred_churn/act_churn*100)))"
   ]
  },
  {
   "cell_type": "markdown",
   "metadata": {},
   "source": [
    "## Random Forest w/ Tuned Hyperparameters"
   ]
  },
  {
   "cell_type": "code",
   "execution_count": 143,
   "metadata": {},
   "outputs": [],
   "source": [
    "from sklearn.model_selection import RandomizedSearchCV\n",
    "# Number of trees in random forest\n",
    "n_estimators = [int(x) for x in np.linspace(start = 200, stop = 2000, num = 10)]\n",
    "# Number of features to consider at every split\n",
    "max_features = ['auto', 'sqrt']\n",
    "# Maximum number of levels in tree\n",
    "max_depth = [int(x) for x in np.linspace(10, 110, num = 11)]\n",
    "max_depth.append(None)\n",
    "# Minimum number of samples required to split a node\n",
    "min_samples_split = [2, 5, 10]\n",
    "# Minimum number of samples required at each leaf node\n",
    "min_samples_leaf = [1, 2, 4]\n",
    "# Method of selecting samples for training each tree\n",
    "bootstrap = [True, False]\n",
    "# Create the random grid\n",
    "random_grid = {'n_estimators': n_estimators,\n",
    "               'max_features': max_features,\n",
    "               'max_depth': max_depth,\n",
    "               'min_samples_split': min_samples_split,\n",
    "               'min_samples_leaf': min_samples_leaf,\n",
    "               'bootstrap': bootstrap}"
   ]
  },
  {
   "cell_type": "markdown",
   "metadata": {},
   "source": [
    "# STOP\n",
    "\n",
    "## This next cell is too much for laptop to handle"
   ]
  },
  {
   "cell_type": "code",
   "execution_count": 144,
   "metadata": {},
   "outputs": [
    {
     "data": {
      "text/plain": [
       "'# Use the random grid to search for best hyperparameters\\n# First create the base model to tune\\nrf = RandomForestClassifier()\\n# Random search of parameters, using 3 fold cross validation, \\n# search across 100 different combinations, and use all available cores\\nrf_random = RandomizedSearchCV(estimator = rf, param_distributions = random_grid, n_iter = 100, cv = 3, verbose=2, random_state=42, n_jobs = -1)\\n# Fit the random search model\\nrf_random.fit(x_train_smote, y_train_smote)\\n\\nrf_random.best_params_'"
      ]
     },
     "execution_count": 144,
     "metadata": {},
     "output_type": "execute_result"
    }
   ],
   "source": [
    "from sklearn.model_selection import RandomizedSearchCV\n",
    "'''# Use the random grid to search for best hyperparameters\n",
    "# First create the base model to tune\n",
    "rf = RandomForestClassifier()\n",
    "# Random search of parameters, using 3 fold cross validation, \n",
    "# search across 100 different combinations, and use all available cores\n",
    "rf_random = RandomizedSearchCV(estimator = rf, param_distributions = random_grid, n_iter = 100, cv = 3, verbose=2, random_state=42, n_jobs = -1)\n",
    "# Fit the random search model\n",
    "rf_random.fit(x_train_smote, y_train_smote)\n",
    "\n",
    "rf_random.best_params_'''"
   ]
  },
  {
   "cell_type": "code",
   "execution_count": 145,
   "metadata": {},
   "outputs": [
    {
     "name": "stdout",
     "output_type": "stream",
     "text": [
      "0.9470899470899471\n",
      "[[749  41]\n",
      " [  9 146]]\n",
      "\n",
      "\n"
     ]
    },
    {
     "data": {
      "image/png": "[encoded data removed]",
      "text/plain": [
       "<Figure size 432x288 with 2 Axes>"
      ]
     },
     "metadata": {
      "needs_background": "light"
     },
     "output_type": "display_data"
    },
    {
     "name": "stdout",
     "output_type": "stream",
     "text": [
      "Of the 155 who actual churned the model predicted 94% of those true churns.\n"
     ]
    }
   ],
   "source": [
    "from sklearn.ensemble import RandomForestClassifier\n",
    "# establish model\n",
    "model= RandomForestClassifier(n_estimators= 1000, min_samples_split= 5, min_samples_leaf= 2, max_features= 'sqrt', max_depth= 100, bootstrap=False)\n",
    "# fit model\n",
    "result= model.fit(x_train_smote, y_train_smote)\n",
    "# make predictions\n",
    "y_pred= model.predict(x_test)\n",
    "# print the accuracy score\n",
    "print(metrics.accuracy_score(y_test, y_pred))\n",
    "\n",
    "# print confusion matrix\n",
    "cm= metrics.confusion_matrix(y_test, y_pred)\n",
    "print(cm)\n",
    "print('\\n')\n",
    "\n",
    "# make confusion matrix more legable\n",
    "sns.heatmap(cm, annot=True, cmap= 'Pastel2')\n",
    "plt.xlabel('Predicted')\n",
    "plt.ylabel('Actual')\n",
    "plt.show()\n",
    "\n",
    "# total real churn\n",
    "act_churn= cm[1,0] + cm[1,1]\n",
    "# number of true churn that was accurately predicted\n",
    "pred_churn= cm[1,1]\n",
    "print('Of the {} who actual churned the model predicted {}% of those true churns.'.format(act_churn, round(pred_churn/act_churn*100)))"
   ]
  },
  {
   "cell_type": "markdown",
   "metadata": {},
   "source": [
    "### Notes\n",
    "\n",
    "#### Optimizing our hyperparameters for Random Forest didn't get us much improvement in accuracy. It appears time would be better spent working on dealing with the class imbalance before actually fitting a model. "
   ]
  },
  {
   "cell_type": "markdown",
   "metadata": {},
   "source": [
    "## Gradient Boosting Classifier with SMOTE"
   ]
  },
  {
   "cell_type": "code",
   "execution_count": 146,
   "metadata": {},
   "outputs": [
    {
     "name": "stdout",
     "output_type": "stream",
     "text": [
      "0.9026455026455027\n",
      "[[707  83]\n",
      " [  9 146]]\n",
      "\n",
      "\n"
     ]
    },
    {
     "data": {
      "image/png": "[encoded data removed]",
      "text/plain": [
       "<Figure size 432x288 with 2 Axes>"
      ]
     },
     "metadata": {
      "needs_background": "light"
     },
     "output_type": "display_data"
    },
    {
     "name": "stdout",
     "output_type": "stream",
     "text": [
      "Of the 155 who actual churned the model predicted 94% of those true churns.\n"
     ]
    }
   ],
   "source": [
    "from sklearn.ensemble import GradientBoostingClassifier\n",
    "model= GradientBoostingClassifier()\n",
    "# fit model\n",
    "result= model.fit(x_train_smote, y_train_smote)\n",
    "# make predictions\n",
    "y_pred= model.predict(x_test)\n",
    "# print the accuracy score\n",
    "print(metrics.accuracy_score(y_test, y_pred))\n",
    "\n",
    "# print confusion matrix\n",
    "cm= metrics.confusion_matrix(y_test, y_pred)\n",
    "print(cm)\n",
    "print('\\n')\n",
    "\n",
    "# make confusion matrix more legable\n",
    "sns.heatmap(cm, annot=True, cmap= 'Pastel2')\n",
    "plt.xlabel('Predicted')\n",
    "plt.ylabel('Actual')\n",
    "plt.show()\n",
    "\n",
    "# total real churn\n",
    "act_churn= cm[1,0] + cm[1,1]\n",
    "# number of true churn that was accurately predicted\n",
    "pred_churn= cm[1,1]\n",
    "print('Of the {} who actual churned the model predicted {}% of those true churns.'.format(act_churn, round(pred_churn/act_churn*100)))"
   ]
  },
  {
   "cell_type": "markdown",
   "metadata": {},
   "source": [
    "## Ada Boost Classifier with SMOTE"
   ]
  },
  {
   "cell_type": "code",
   "execution_count": 147,
   "metadata": {},
   "outputs": [
    {
     "name": "stdout",
     "output_type": "stream",
     "text": [
      "0.8497354497354498\n",
      "[[658 132]\n",
      " [ 10 145]]\n",
      "\n",
      "\n"
     ]
    },
    {
     "data": {
      "image/png": "[encoded data removed]",
      "text/plain": [
       "<Figure size 432x288 with 2 Axes>"
      ]
     },
     "metadata": {
      "needs_background": "light"
     },
     "output_type": "display_data"
    },
    {
     "name": "stdout",
     "output_type": "stream",
     "text": [
      "Of the 155 who actual churned the model predicted 94% of those true churns.\n"
     ]
    }
   ],
   "source": [
    "from sklearn.ensemble import AdaBoostClassifier\n",
    "model= AdaBoostClassifier()\n",
    "# fit model\n",
    "result= model.fit(x_train_smote, y_train_smote)\n",
    "# make predictions\n",
    "y_pred= model.predict(x_test)\n",
    "# print the accuracy score\n",
    "print(metrics.accuracy_score(y_test, y_pred))\n",
    "\n",
    "# print confusion matrix\n",
    "cm= metrics.confusion_matrix(y_test, y_pred)\n",
    "print(cm)\n",
    "print('\\n')\n",
    "\n",
    "# make confusion matrix more legable\n",
    "sns.heatmap(cm, annot=True, cmap= 'Pastel2')\n",
    "plt.xlabel('Predicted')\n",
    "plt.ylabel('Actual')\n",
    "plt.show()\n",
    "\n",
    "# total real churn\n",
    "act_churn= cm[1,0] + cm[1,1]\n",
    "# number of true churn that was accurately predicted\n",
    "pred_churn= cm[1,1]\n",
    "print('Of the {} who actual churned the model predicted {}% of those true churns.'.format(act_churn, round(pred_churn/act_churn*100)))"
   ]
  },
  {
   "cell_type": "code",
   "execution_count": 148,
   "metadata": {},
   "outputs": [
    {
     "name": "stdout",
     "output_type": "stream",
     "text": [
      "0.4666666666666667\n",
      "[[301 489]\n",
      " [ 15 140]]\n",
      "\n",
      "\n"
     ]
    },
    {
     "name": "stderr",
     "output_type": "stream",
     "text": [
      "/Users/jeremysilva/opt/anaconda3/lib/python3.7/site-packages/sklearn/svm/_base.py:977: ConvergenceWarning: Liblinear failed to converge, increase the number of iterations.\n",
      "  \"the number of iterations.\", ConvergenceWarning)\n"
     ]
    },
    {
     "data": {
      "image/png": "[encoded data removed]",
      "text/plain": [
       "<Figure size 432x288 with 2 Axes>"
      ]
     },
     "metadata": {
      "needs_background": "light"
     },
     "output_type": "display_data"
    },
    {
     "name": "stdout",
     "output_type": "stream",
     "text": [
      "Of the 155 who actual churned the model predicted 90% of those true churns.\n"
     ]
    }
   ],
   "source": [
    "from sklearn.svm import LinearSVC\n",
    "from sklearn.ensemble import AdaBoostClassifier\n",
    "model= LinearSVC()\n",
    "# fit model\n",
    "result= model.fit(x_train_smote, y_train_smote)\n",
    "# make predictions\n",
    "y_pred= model.predict(x_test)\n",
    "# print the accuracy score\n",
    "print(metrics.accuracy_score(y_test, y_pred))\n",
    "\n",
    "# print confusion matrix\n",
    "cm= metrics.confusion_matrix(y_test, y_pred)\n",
    "print(cm)\n",
    "print('\\n')\n",
    "\n",
    "# make confusion matrix more legable\n",
    "sns.heatmap(cm, annot=True, cmap= 'Pastel2')\n",
    "plt.xlabel('Predicted')\n",
    "plt.ylabel('Actual')\n",
    "plt.show()\n",
    "\n",
    "# total real churn\n",
    "act_churn= cm[1,0] + cm[1,1]\n",
    "# number of true churn that was accurately predicted\n",
    "pred_churn= cm[1,1]\n",
    "print('Of the {} who actual churned the model predicted {}% of those true churns.'.format(act_churn, round(pred_churn/act_churn*100)))\n"
   ]
  },
  {
   "cell_type": "markdown",
   "metadata": {},
   "source": [
    "### Using SMOTE to Create a 2:1 Ratio of No Churn to Churn"
   ]
  },
  {
   "cell_type": "code",
   "execution_count": 149,
   "metadata": {},
   "outputs": [
    {
     "name": "stdout",
     "output_type": "stream",
     "text": [
      "(array([0, 1]), array([1865,  340])) [1856  928]\n"
     ]
    }
   ],
   "source": [
    "from imblearn.under_sampling import RandomUnderSampler\n",
    "smote_2_1= SMOTE(sampling_strategy=0.5)\n",
    "x_train_smote_2_1, y_train_smote_2_1= smote_2_1.fit_sample(x_train, y_train)\n",
    "\n",
    "# Check to see what the class balance looks like now \n",
    "print (np.unique(y_train, return_counts=True) , np.bincount(y_train_smote_under))"
   ]
  },
  {
   "cell_type": "code",
   "execution_count": 150,
   "metadata": {},
   "outputs": [
    {
     "name": "stdout",
     "output_type": "stream",
     "text": [
      "0.946031746031746\n",
      "[[756  34]\n",
      " [ 17 138]]\n",
      "\n",
      "\n"
     ]
    },
    {
     "data": {
      "image/png": "[encoded data removed]",
      "text/plain": [
       "<Figure size 432x288 with 2 Axes>"
      ]
     },
     "metadata": {
      "needs_background": "light"
     },
     "output_type": "display_data"
    },
    {
     "name": "stdout",
     "output_type": "stream",
     "text": [
      "Of the 155 who actual churned the model predicted 89% of those true churns.\n"
     ]
    }
   ],
   "source": [
    "\n",
    "# establish model\n",
    "model= RandomForestClassifier()\n",
    "# fit model\n",
    "result= model.fit(x_train_smote_2_1, y_train_smote_2_1)\n",
    "# make predictions\n",
    "y_pred= model.predict(x_test)\n",
    "# print the accuracy score\n",
    "print(metrics.accuracy_score(y_test, y_pred))\n",
    "\n",
    "# print confusion matrix\n",
    "cm= metrics.confusion_matrix(y_test, y_pred)\n",
    "print(cm)\n",
    "print('\\n')\n",
    "\n",
    "# make confusion matrix more legable\n",
    "sns.heatmap(cm, annot=True, cmap= 'Pastel2')\n",
    "plt.xlabel('Predicted')\n",
    "plt.ylabel('Actual')\n",
    "plt.show()\n",
    "\n",
    "# total real churn\n",
    "act_churn= cm[1,0] + cm[1,1]\n",
    "# number of true churn that was accurately predicted\n",
    "pred_churn= cm[1,1]\n",
    "print('Of the {} who actual churned the model predicted {}% of those true churns.'.format(act_churn, round(pred_churn/act_churn*100)))"
   ]
  },
  {
   "cell_type": "markdown",
   "metadata": {},
   "source": [
    "### Notes\n",
    "\n",
    "It looks like SMOTE is helping our accuracy a lot. However, it is unclear which ratio amongst classes is best. Let's loop though a few different options and run a RandomizedCV on the outcome to see what we get. "
   ]
  },
  {
   "cell_type": "code",
   "execution_count": 151,
   "metadata": {},
   "outputs": [
    {
     "name": "stdout",
     "output_type": "stream",
     "text": [
      "Model Performance with 0.25 as smote sampling strategy\n",
      "0.944973544973545\n",
      "[[768  22]\n",
      " [ 30 125]]\n",
      "\n",
      "\n"
     ]
    },
    {
     "data": {
      "image/png": "[encoded data removed]",
      "text/plain": [
       "<Figure size 432x288 with 2 Axes>"
      ]
     },
     "metadata": {
      "needs_background": "light"
     },
     "output_type": "display_data"
    },
    {
     "name": "stdout",
     "output_type": "stream",
     "text": [
      "Of the 155 who actual churned the model predicted 81% of those true churns.\n",
      "\n",
      "\n",
      "Model Performance with 0.5 as smote sampling strategy\n",
      "0.9523809523809523\n",
      "[[763  27]\n",
      " [ 18 137]]\n",
      "\n",
      "\n"
     ]
    },
    {
     "data": {
      "image/png": "[encoded data removed]",
      "text/plain": [
       "<Figure size 432x288 with 2 Axes>"
      ]
     },
     "metadata": {
      "needs_background": "light"
     },
     "output_type": "display_data"
    },
    {
     "name": "stdout",
     "output_type": "stream",
     "text": [
      "Of the 155 who actual churned the model predicted 88% of those true churns.\n",
      "\n",
      "\n",
      "Model Performance with 0.75 as smote sampling strategy\n",
      "0.9428571428571428\n",
      "[[749  41]\n",
      " [ 13 142]]\n",
      "\n",
      "\n"
     ]
    },
    {
     "data": {
      "image/png": "[encoded data removed]",
      "text/plain": [
       "<Figure size 432x288 with 2 Axes>"
      ]
     },
     "metadata": {
      "needs_background": "light"
     },
     "output_type": "display_data"
    },
    {
     "name": "stdout",
     "output_type": "stream",
     "text": [
      "Of the 155 who actual churned the model predicted 92% of those true churns.\n",
      "\n",
      "\n",
      "Model Performance with auto as smote sampling strategy\n",
      "0.944973544973545\n",
      "[[748  42]\n",
      " [ 10 145]]\n",
      "\n",
      "\n"
     ]
    },
    {
     "data": {
      "image/png": "[encoded data removed]",
      "text/plain": [
       "<Figure size 432x288 with 2 Axes>"
      ]
     },
     "metadata": {
      "needs_background": "light"
     },
     "output_type": "display_data"
    },
    {
     "name": "stdout",
     "output_type": "stream",
     "text": [
      "Of the 155 who actual churned the model predicted 94% of those true churns.\n",
      "\n",
      "\n"
     ]
    }
   ],
   "source": [
    "ratios= [0.25, 0.5, 0.75, 'auto']\n",
    "for i in ratios:\n",
    "    sm= SMOTE(sampling_strategy=i)\n",
    "    x_train_smote, y_train_smote= sm.fit_sample(x_train, y_train)\n",
    "    # establish model\n",
    "    model= RandomForestClassifier()\n",
    "    # fit model\n",
    "    result= model.fit(x_train_smote, y_train_smote)\n",
    "    # make predictions\n",
    "    y_pred= model.predict(x_test)\n",
    "    \n",
    "    print('Model Performance with {} as smote sampling strategy'.format(i))\n",
    "    # print the accuracy score\n",
    "    print(metrics.accuracy_score(y_test, y_pred))\n",
    "\n",
    "    # print confusion matrix\n",
    "    cm= metrics.confusion_matrix(y_test, y_pred)\n",
    "    print(cm)\n",
    "    print('\\n')\n",
    "\n",
    "    # make confusion matrix more legable\n",
    "    sns.heatmap(cm, annot=True, cmap= 'Pastel2')\n",
    "    plt.xlabel('Predicted')\n",
    "    plt.ylabel('Actual')\n",
    "    plt.show()\n",
    "\n",
    "    # total real churn\n",
    "    act_churn= cm[1,0] + cm[1,1]\n",
    "    # number of true churn that was accurately predicted\n",
    "    pred_churn= cm[1,1]\n",
    "    print('Of the {} who actual churned the model predicted {}% of those true churns.'.format(act_churn, round(pred_churn/act_churn*100)))\n",
    "    print('\\n')\n",
    "    "
   ]
  },
  {
   "cell_type": "markdown",
   "metadata": {},
   "source": [
    "### Notes\n",
    "\n",
    "It looks like Auto, which results in a 1:1 ratio, is giving us the best results"
   ]
  },
  {
   "cell_type": "markdown",
   "metadata": {},
   "source": [
    "## Testing out ADASYN for Over Sampling of the Minorty Class"
   ]
  },
  {
   "cell_type": "code",
   "execution_count": 152,
   "metadata": {},
   "outputs": [
    {
     "name": "stdout",
     "output_type": "stream",
     "text": [
      "(array([0, 1]), array([1865,  340])) [1856  928]\n",
      "\n",
      "\n",
      "0.9407407407407408\n",
      "[[746  44]\n",
      " [ 12 143]]\n",
      "\n",
      "\n"
     ]
    },
    {
     "data": {
      "image/png": "[encoded data removed]",
      "text/plain": [
       "<Figure size 432x288 with 2 Axes>"
      ]
     },
     "metadata": {
      "needs_background": "light"
     },
     "output_type": "display_data"
    },
    {
     "name": "stdout",
     "output_type": "stream",
     "text": [
      "Of the 155 who actual churned the model predicted 92% of those true churns.\n"
     ]
    }
   ],
   "source": [
    "from imblearn.over_sampling import ADASYN\n",
    "ad= ADASYN()\n",
    "\n",
    "x_train_ad, y_train_ad= ad.fit_sample(x_train, y_train)\n",
    "\n",
    "# Check to see what the class balance looks like now \n",
    "print (np.unique(y_train, return_counts=True) , np.bincount(y_train_smote_under))\n",
    "print('\\n')\n",
    "\n",
    "# establish model\n",
    "model= RandomForestClassifier()\n",
    "# fit model\n",
    "result= model.fit(x_train_ad, y_train_ad)\n",
    "# make predictions\n",
    "y_pred= model.predict(x_test)\n",
    "# print the accuracy score\n",
    "print(metrics.accuracy_score(y_test, y_pred))\n",
    "\n",
    "# print confusion matrix\n",
    "cm= metrics.confusion_matrix(y_test, y_pred)\n",
    "print(cm)\n",
    "print('\\n')\n",
    "\n",
    "# make confusion matrix more legable\n",
    "sns.heatmap(cm, annot=True, cmap= 'Pastel2')\n",
    "plt.xlabel('Predicted')\n",
    "plt.ylabel('Actual')\n",
    "plt.show()\n",
    "\n",
    "# total real churn\n",
    "act_churn= cm[1,0] + cm[1,1]\n",
    "# number of true churn that was accurately predicted\n",
    "pred_churn= cm[1,1]\n",
    "print('Of the {} who actual churned the model predicted {}% of those true churns.'.format(act_churn, round(pred_churn/act_churn*100)))\n"
   ]
  },
  {
   "cell_type": "markdown",
   "metadata": {},
   "source": [
    "### It looks like we are getting roughly equivalent results with SMOTE and ADASYN "
   ]
  },
  {
   "cell_type": "markdown",
   "metadata": {},
   "source": [
    "## What if we do some further feature engineering? \n",
    "\n",
    "### Does clustering our continous variables before modeling improve performance? "
   ]
  },
  {
   "cell_type": "code",
   "execution_count": 153,
   "metadata": {},
   "outputs": [
    {
     "data": {
      "text/html": [
       "<div>\n",
       "<style scoped>\n",
       "    .dataframe tbody tr th:only-of-type {\n",
       "        vertical-align: middle;\n",
       "    }\n",
       "\n",
       "    .dataframe tbody tr th {\n",
       "        vertical-align: top;\n",
       "    }\n",
       "\n",
       "    .dataframe thead th {\n",
       "        text-align: right;\n",
       "    }\n",
       "</style>\n",
       "<table border=\"1\" class=\"dataframe\">\n",
       "  <thead>\n",
       "    <tr style=\"text-align: right;\">\n",
       "      <th></th>\n",
       "      <th>Call  Failure</th>\n",
       "      <th>Complains</th>\n",
       "      <th>Subscription  Length</th>\n",
       "      <th>Charge  Amount</th>\n",
       "      <th>Seconds of Use</th>\n",
       "      <th>Frequency of use</th>\n",
       "      <th>Frequency of SMS</th>\n",
       "      <th>Distinct Called Numbers</th>\n",
       "      <th>Age Group</th>\n",
       "      <th>Tariff Plan</th>\n",
       "      <th>Status</th>\n",
       "      <th>Customer Value</th>\n",
       "      <th>Churn</th>\n",
       "    </tr>\n",
       "  </thead>\n",
       "  <tbody>\n",
       "    <tr>\n",
       "      <th>0</th>\n",
       "      <td>8</td>\n",
       "      <td>0</td>\n",
       "      <td>38</td>\n",
       "      <td>0</td>\n",
       "      <td>4370</td>\n",
       "      <td>71</td>\n",
       "      <td>5</td>\n",
       "      <td>17</td>\n",
       "      <td>3</td>\n",
       "      <td>1</td>\n",
       "      <td>1</td>\n",
       "      <td>197.640</td>\n",
       "      <td>0</td>\n",
       "    </tr>\n",
       "    <tr>\n",
       "      <th>1</th>\n",
       "      <td>0</td>\n",
       "      <td>0</td>\n",
       "      <td>39</td>\n",
       "      <td>0</td>\n",
       "      <td>318</td>\n",
       "      <td>5</td>\n",
       "      <td>7</td>\n",
       "      <td>4</td>\n",
       "      <td>2</td>\n",
       "      <td>1</td>\n",
       "      <td>2</td>\n",
       "      <td>46.035</td>\n",
       "      <td>0</td>\n",
       "    </tr>\n",
       "    <tr>\n",
       "      <th>2</th>\n",
       "      <td>10</td>\n",
       "      <td>0</td>\n",
       "      <td>37</td>\n",
       "      <td>0</td>\n",
       "      <td>2453</td>\n",
       "      <td>60</td>\n",
       "      <td>359</td>\n",
       "      <td>24</td>\n",
       "      <td>3</td>\n",
       "      <td>1</td>\n",
       "      <td>1</td>\n",
       "      <td>1536.520</td>\n",
       "      <td>0</td>\n",
       "    </tr>\n",
       "    <tr>\n",
       "      <th>3</th>\n",
       "      <td>10</td>\n",
       "      <td>0</td>\n",
       "      <td>38</td>\n",
       "      <td>0</td>\n",
       "      <td>4198</td>\n",
       "      <td>66</td>\n",
       "      <td>1</td>\n",
       "      <td>35</td>\n",
       "      <td>1</td>\n",
       "      <td>1</td>\n",
       "      <td>1</td>\n",
       "      <td>240.020</td>\n",
       "      <td>0</td>\n",
       "    </tr>\n",
       "    <tr>\n",
       "      <th>4</th>\n",
       "      <td>3</td>\n",
       "      <td>0</td>\n",
       "      <td>38</td>\n",
       "      <td>0</td>\n",
       "      <td>2393</td>\n",
       "      <td>58</td>\n",
       "      <td>2</td>\n",
       "      <td>33</td>\n",
       "      <td>1</td>\n",
       "      <td>1</td>\n",
       "      <td>1</td>\n",
       "      <td>145.805</td>\n",
       "      <td>0</td>\n",
       "    </tr>\n",
       "  </tbody>\n",
       "</table>\n",
       "</div>"
      ],
      "text/plain": [
       "   Call  Failure  Complains  Subscription  Length  Charge  Amount  \\\n",
       "0              8          0                    38               0   \n",
       "1              0          0                    39               0   \n",
       "2             10          0                    37               0   \n",
       "3             10          0                    38               0   \n",
       "4              3          0                    38               0   \n",
       "\n",
       "   Seconds of Use  Frequency of use  Frequency of SMS  \\\n",
       "0            4370                71                 5   \n",
       "1             318                 5                 7   \n",
       "2            2453                60               359   \n",
       "3            4198                66                 1   \n",
       "4            2393                58                 2   \n",
       "\n",
       "   Distinct Called Numbers  Age Group  Tariff Plan  Status  Customer Value  \\\n",
       "0                       17          3            1       1         197.640   \n",
       "1                        4          2            1       2          46.035   \n",
       "2                       24          3            1       1        1536.520   \n",
       "3                       35          1            1       1         240.020   \n",
       "4                       33          1            1       1         145.805   \n",
       "\n",
       "   Churn  \n",
       "0      0  \n",
       "1      0  \n",
       "2      0  \n",
       "3      0  \n",
       "4      0  "
      ]
     },
     "execution_count": 153,
     "metadata": {},
     "output_type": "execute_result"
    }
   ],
   "source": [
    "df.head()"
   ]
  },
  {
   "cell_type": "code",
   "execution_count": 154,
   "metadata": {},
   "outputs": [
    {
     "data": {
      "text/plain": [
       "Index(['Call  Failure', 'Complains', 'Subscription  Length', 'Charge  Amount',\n",
       "       'Seconds of Use', 'Frequency of use', 'Frequency of SMS',\n",
       "       'Distinct Called Numbers', 'Age Group', 'Tariff Plan', 'Status',\n",
       "       'Customer Value', 'Churn'],\n",
       "      dtype='object')"
      ]
     },
     "execution_count": 154,
     "metadata": {},
     "output_type": "execute_result"
    }
   ],
   "source": [
    "df.columns"
   ]
  },
  {
   "cell_type": "code",
   "execution_count": 155,
   "metadata": {},
   "outputs": [
    {
     "name": "stdout",
     "output_type": "stream",
     "text": [
      "Elbow Method for Call  Failure\n"
     ]
    },
    {
     "data": {
      "image/png": "[encoded data removed]",
      "text/plain": [
       "<Figure size 432x288 with 2 Axes>"
      ]
     },
     "metadata": {},
     "output_type": "display_data"
    },
    {
     "name": "stdout",
     "output_type": "stream",
     "text": [
      "\n",
      "\n",
      "Elbow Method for Subscription  Length\n"
     ]
    },
    {
     "data": {
      "image/png": "[encoded data removed]",
      "text/plain": [
       "<Figure size 432x288 with 2 Axes>"
      ]
     },
     "metadata": {},
     "output_type": "display_data"
    },
    {
     "name": "stdout",
     "output_type": "stream",
     "text": [
      "\n",
      "\n",
      "Elbow Method for Seconds of Use\n"
     ]
    },
    {
     "data": {
      "image/png": "[encoded data removed]",
      "text/plain": [
       "<Figure size 432x288 with 2 Axes>"
      ]
     },
     "metadata": {},
     "output_type": "display_data"
    },
    {
     "name": "stdout",
     "output_type": "stream",
     "text": [
      "\n",
      "\n",
      "Elbow Method for Frequency of use\n"
     ]
    },
    {
     "data": {
      "image/png": "[encoded data removed]",
      "text/plain": [
       "<Figure size 432x288 with 2 Axes>"
      ]
     },
     "metadata": {},
     "output_type": "display_data"
    },
    {
     "name": "stdout",
     "output_type": "stream",
     "text": [
      "\n",
      "\n",
      "Elbow Method for Frequency of SMS\n"
     ]
    },
    {
     "data": {
      "image/png": "[encoded data removed]",
      "text/plain": [
       "<Figure size 432x288 with 2 Axes>"
      ]
     },
     "metadata": {},
     "output_type": "display_data"
    },
    {
     "name": "stdout",
     "output_type": "stream",
     "text": [
      "\n",
      "\n",
      "Elbow Method for Distinct Called Numbers\n"
     ]
    },
    {
     "data": {
      "image/png": "[encoded data removed]",
      "text/plain": [
       "<Figure size 432x288 with 2 Axes>"
      ]
     },
     "metadata": {},
     "output_type": "display_data"
    },
    {
     "name": "stdout",
     "output_type": "stream",
     "text": [
      "\n",
      "\n",
      "Elbow Method for Customer Value\n"
     ]
    },
    {
     "data": {
      "image/png": "[encoded data removed]",
      "text/plain": [
       "<Figure size 432x288 with 2 Axes>"
      ]
     },
     "metadata": {},
     "output_type": "display_data"
    },
    {
     "name": "stdout",
     "output_type": "stream",
     "text": [
      "\n",
      "\n"
     ]
    }
   ],
   "source": [
    "# We could try using KNN to group categorical variables\n",
    "from yellowbrick.cluster import KElbowVisualizer\n",
    "from sklearn.cluster import KMeans\n",
    "# Establish list of continuous variables\n",
    "cont_vars= ['Call  Failure','Subscription  Length',\n",
    "       'Seconds of Use', 'Frequency of use', 'Frequency of SMS',\n",
    "       'Distinct Called Numbers',\n",
    "       'Customer Value']\n",
    "\n",
    "# Loop through continous variables and create and elbow chart for each\n",
    "for x in cont_vars:\n",
    "    var= df[x].values.reshape((-1,1))\n",
    "    model = KElbowVisualizer(KMeans(), k=10)\n",
    "    model.fit(var)\n",
    "    print('Elbow Method for {}'.format(x))\n",
    "    model.show()\n",
    "    print('\\n')\n"
   ]
  },
  {
   "cell_type": "code",
   "execution_count": 156,
   "metadata": {},
   "outputs": [
    {
     "name": "stdout",
     "output_type": "stream",
     "text": [
      "[4, 4, 4, 5, 4, 4, 3]\n",
      "[4, 4, 4, 5, 4, 4, 3]\n"
     ]
    }
   ],
   "source": [
    "# Best Ks are Call fail: 4, Subscription Length: 4, Seconds of Use: 4, Frequency of Use: 5, Frequency of SMS: 4, \n",
    "# Distinct called numbers: 4, Customer Lifetime Value: 3\n",
    "#create a copy of the dataset to hold the clustered continous variables\n",
    "df_clustered= df.copy()\n",
    "# list of the best Ks\n",
    "best_k=[4,4,4,5,4,4,3]\n",
    "#match the best Ks with their appropriate column name\n",
    "combo_list= list(zip(cont_vars, best_k))\n",
    "\n",
    "# Loop through the combined list \n",
    "for x, y in combo_list:\n",
    "    # establish the var to be clustered\n",
    "    var=df[x].values.reshape((-1,1))\n",
    "    # fit the model using the appropriate number of clusters\n",
    "    model= KMeans(n_clusters=y)\n",
    "    model.fit(var)\n",
    "    labels= model.labels_\n",
    "    # assign the labels to the df_cluster in place of the continous values\n",
    "    df_clustered[x]= labels\n",
    "\n",
    "# check to make sure the number of unique values in the df_clustered matchs up with the best ks\n",
    "check=[]\n",
    "for x in cont_vars:\n",
    "    num= df_clustered[x].nunique()\n",
    "    check.append(num)\n",
    "\n",
    "print(best_k)\n",
    "print(check)\n",
    "    \n"
   ]
  },
  {
   "cell_type": "code",
   "execution_count": 157,
   "metadata": {},
   "outputs": [
    {
     "name": "stdout",
     "output_type": "stream",
     "text": [
      "0.8835978835978836\n",
      "[[695  97]\n",
      " [ 13 140]]\n",
      "\n",
      "\n"
     ]
    },
    {
     "data": {
      "image/png": "[encoded data removed]",
      "text/plain": [
       "<Figure size 432x288 with 2 Axes>"
      ]
     },
     "metadata": {
      "needs_background": "light"
     },
     "output_type": "display_data"
    },
    {
     "name": "stdout",
     "output_type": "stream",
     "text": [
      "Of the 153 who actual churned the model predicted 92% of those true churns.\n"
     ]
    }
   ],
   "source": [
    "# X will be all attributes except churn\n",
    "X= df_clustered.drop(columns= 'Churn')\n",
    "# y will be churn values\n",
    "y= df_clustered['Churn'].values\n",
    "\n",
    "x_train, x_test, y_train, y_test= train_test_split(X, y, test_size=0.3)\n",
    "\n",
    "# use Smote to balance the classes of the training data\n",
    "# with default parameters (which I found to be best for this case) we will sysnthesis enough of the churn examples\n",
    "# such that our non churn to churn ratio is 1:1\n",
    "# establish the SMOTE variable\n",
    "sm= SMOTE()\n",
    "# transform the training data using SMOTE variable\n",
    "x_train_smote, y_train_smote= sm.fit_sample(x_train, y_train)\n",
    "# Establish the model\n",
    "rf= RandomForestClassifier()\n",
    "# fit the. model on the smoted data\n",
    "rf_result= rf.fit(x_train_smote, y_train_smote)\n",
    "\n",
    "# Evaluate the model\n",
    "y_pred= rf.predict(x_test)\n",
    "# print the accuracy score\n",
    "print(metrics.accuracy_score(y_test, y_pred))\n",
    "\n",
    "# print confusion matrix\n",
    "cm= metrics.confusion_matrix(y_test, y_pred)\n",
    "print(cm)\n",
    "print('\\n')\n",
    "\n",
    "# make confusion matrix more legable\n",
    "sns.heatmap(cm, annot=True, cmap= 'Pastel2', fmt='g')\n",
    "plt.xlabel('Predicted')\n",
    "plt.ylabel('Actual')\n",
    "plt.show()\n",
    "\n",
    "# total real churn\n",
    "act_churn= cm[1,0] + cm[1,1]\n",
    "# number of true churn that was accurately predicted\n",
    "pred_churn= cm[1,1]\n",
    "print('Of the {} who actual churned the model predicted {}% of those true churns.'.format(act_churn, round(pred_churn/act_churn*100)))"
   ]
  },
  {
   "cell_type": "markdown",
   "metadata": {},
   "source": [
    "### Notes\n",
    "\n",
    "Clustering the categorical variables did not help our performance at all. In fact, it hurt performance. "
   ]
  },
  {
   "cell_type": "markdown",
   "metadata": {},
   "source": [
    "## Final Model for Churn Prediction\n",
    "\n",
    "## Random Forest in Conjunction with SMOTE"
   ]
  },
  {
   "cell_type": "code",
   "execution_count": 159,
   "metadata": {},
   "outputs": [
    {
     "name": "stdout",
     "output_type": "stream",
     "text": [
      "Accuracy: 0.95\n",
      "[[740  38]\n",
      " [  9 158]]\n",
      "\n",
      "\n"
     ]
    },
    {
     "data": {
      "image/png": "[encoded data removed]",
      "text/plain": [
       "<Figure size 432x288 with 2 Axes>"
      ]
     },
     "metadata": {
      "needs_background": "light"
     },
     "output_type": "display_data"
    },
    {
     "name": "stdout",
     "output_type": "stream",
     "text": [
      "Of the 153 who actual churned the model predicted 92% of those true churns.\n"
     ]
    }
   ],
   "source": [
    "# X will be all attributes except churn\n",
    "X= df.drop(columns= 'Churn')\n",
    "# y will be churn values\n",
    "y= df['Churn'].values\n",
    "\n",
    "x_train, x_test, y_train, y_test= train_test_split(X, y, test_size=0.3)\n",
    "\n",
    "# use Smote to balance the classes of the training data\n",
    "# with default parameters (which I found to be best for this case) we will sysnthesis enough of the churn examples\n",
    "# such that our non churn to churn ratio is 1:1\n",
    "# establish the SMOTE variable\n",
    "sm= SMOTE()\n",
    "# transform the training data using SMOTE variable\n",
    "x_train_smote, y_train_smote= sm.fit_sample(x_train, y_train)\n",
    "# Establish the model\n",
    "rf= RandomForestClassifier()\n",
    "# fit the. model on the smoted data\n",
    "rf_result= rf.fit(x_train_smote, y_train_smote)\n",
    "\n",
    "# Evaluate the model\n",
    "y_pred_fin= rf.predict(x_test)\n",
    "\n",
    "score_fin= metrics.accuracy_score(y_test, y_pred_fin)\n",
    "# print the accuracy score\n",
    "print('Accuracy: {}'.format(round(score_fin, 2)))\n",
    "\n",
    "# print confusion matrix\n",
    "cm_fin= metrics.confusion_matrix(y_test, y_pred_fin)\n",
    "print(cm_fin)\n",
    "print('\\n')\n",
    "\n",
    "# make confusion matrix more legable\n",
    "sns.heatmap(cm, annot=True, cmap= 'Pastel2', fmt='g')\n",
    "plt.xlabel('Predicted')\n",
    "plt.ylabel('Actual')\n",
    "plt.show()\n",
    "\n",
    "# total real churn\n",
    "act_churn_fin= cm[1,0] + cm[1,1]\n",
    "# number of true churn that was accurately predicted\n",
    "pred_churn_fin= cm[1,1]\n",
    "print('Of the {} who actual churned the model predicted {}% of those true churns.'.format(act_churn_fin, round(pred_churn_fin/act_churn_fin*100)))"
   ]
  },
  {
   "cell_type": "code",
   "execution_count": 172,
   "metadata": {},
   "outputs": [
    {
     "data": {
      "text/plain": [
       "Text(0, 0.5, 'Feature')"
      ]
     },
     "execution_count": 172,
     "metadata": {},
     "output_type": "execute_result"
    },
    {
     "data": {
      "image/png": "[encoded data removed]",
      "text/plain": [
       "<Figure size 432x288 with 1 Axes>"
      ]
     },
     "metadata": {
      "needs_background": "light"
     },
     "output_type": "display_data"
    }
   ],
   "source": [
    "# Visualizing Feature Importance from the Random Forest\n",
    "# create empty df\n",
    "impt_df= pd.DataFrame()\n",
    "# create list of feature importances\n",
    "importances= rf_result.feature_importances_\n",
    "#create list to hold the feature names\n",
    "features= list(x_train.columns)\n",
    "\n",
    "# Add features and their importance to the dataframe\n",
    "impt_df['Feature']= features\n",
    "impt_df['Importance']= importances\n",
    "\n",
    "# Plot the sorted feature importances\n",
    "impt_df= impt_df.sort_values(by='Importance')\n",
    "plt.barh(y=impt_df.Feature, width=impt_df.Importance)\n",
    "plt.title('Random Forest Feature Importance')\n",
    "plt.xlabel('Importance')\n",
    "plt.ylabel('Feature')\n"
   ]
  },
  {
   "cell_type": "code",
   "execution_count": 219,
   "metadata": {},
   "outputs": [
    {
     "data": {
      "text/html": [
       "<div>\n",
       "<style scoped>\n",
       "    .dataframe tbody tr th:only-of-type {\n",
       "        vertical-align: middle;\n",
       "    }\n",
       "\n",
       "    .dataframe tbody tr th {\n",
       "        vertical-align: top;\n",
       "    }\n",
       "\n",
       "    .dataframe thead th {\n",
       "        text-align: right;\n",
       "    }\n",
       "</style>\n",
       "<table border=\"1\" class=\"dataframe\">\n",
       "  <thead>\n",
       "    <tr style=\"text-align: right;\">\n",
       "      <th></th>\n",
       "      <th>Call  Failure</th>\n",
       "      <th>Complains</th>\n",
       "      <th>Subscription  Length</th>\n",
       "      <th>Charge  Amount</th>\n",
       "      <th>Seconds of Use</th>\n",
       "      <th>Frequency of use</th>\n",
       "      <th>Frequency of SMS</th>\n",
       "      <th>Distinct Called Numbers</th>\n",
       "      <th>Age Group</th>\n",
       "      <th>Tariff Plan</th>\n",
       "      <th>Status</th>\n",
       "      <th>Customer Value</th>\n",
       "      <th>Churn Prediction</th>\n",
       "      <th>Churn Probability</th>\n",
       "    </tr>\n",
       "  </thead>\n",
       "  <tbody>\n",
       "    <tr>\n",
       "      <th>1828</th>\n",
       "      <td>0</td>\n",
       "      <td>0</td>\n",
       "      <td>29</td>\n",
       "      <td>0</td>\n",
       "      <td>0</td>\n",
       "      <td>0</td>\n",
       "      <td>0</td>\n",
       "      <td>0</td>\n",
       "      <td>2</td>\n",
       "      <td>1</td>\n",
       "      <td>2</td>\n",
       "      <td>0.000</td>\n",
       "      <td>1</td>\n",
       "      <td>0.989231</td>\n",
       "    </tr>\n",
       "    <tr>\n",
       "      <th>1107</th>\n",
       "      <td>11</td>\n",
       "      <td>0</td>\n",
       "      <td>37</td>\n",
       "      <td>2</td>\n",
       "      <td>8870</td>\n",
       "      <td>118</td>\n",
       "      <td>142</td>\n",
       "      <td>43</td>\n",
       "      <td>3</td>\n",
       "      <td>1</td>\n",
       "      <td>1</td>\n",
       "      <td>927.520</td>\n",
       "      <td>0</td>\n",
       "      <td>0.000000</td>\n",
       "    </tr>\n",
       "    <tr>\n",
       "      <th>1694</th>\n",
       "      <td>0</td>\n",
       "      <td>0</td>\n",
       "      <td>15</td>\n",
       "      <td>0</td>\n",
       "      <td>1275</td>\n",
       "      <td>14</td>\n",
       "      <td>0</td>\n",
       "      <td>8</td>\n",
       "      <td>2</td>\n",
       "      <td>1</td>\n",
       "      <td>1</td>\n",
       "      <td>58.005</td>\n",
       "      <td>1</td>\n",
       "      <td>0.590000</td>\n",
       "    </tr>\n",
       "    <tr>\n",
       "      <th>2553</th>\n",
       "      <td>19</td>\n",
       "      <td>0</td>\n",
       "      <td>40</td>\n",
       "      <td>3</td>\n",
       "      <td>5103</td>\n",
       "      <td>82</td>\n",
       "      <td>29</td>\n",
       "      <td>52</td>\n",
       "      <td>1</td>\n",
       "      <td>1</td>\n",
       "      <td>1</td>\n",
       "      <td>444.675</td>\n",
       "      <td>0</td>\n",
       "      <td>0.050000</td>\n",
       "    </tr>\n",
       "    <tr>\n",
       "      <th>2503</th>\n",
       "      <td>13</td>\n",
       "      <td>0</td>\n",
       "      <td>37</td>\n",
       "      <td>1</td>\n",
       "      <td>4323</td>\n",
       "      <td>64</td>\n",
       "      <td>7</td>\n",
       "      <td>32</td>\n",
       "      <td>1</td>\n",
       "      <td>1</td>\n",
       "      <td>1</td>\n",
       "      <td>279.785</td>\n",
       "      <td>0</td>\n",
       "      <td>0.020000</td>\n",
       "    </tr>\n",
       "    <tr>\n",
       "      <th>2169</th>\n",
       "      <td>11</td>\n",
       "      <td>0</td>\n",
       "      <td>41</td>\n",
       "      <td>2</td>\n",
       "      <td>7873</td>\n",
       "      <td>136</td>\n",
       "      <td>396</td>\n",
       "      <td>47</td>\n",
       "      <td>3</td>\n",
       "      <td>1</td>\n",
       "      <td>1</td>\n",
       "      <td>1904.360</td>\n",
       "      <td>0</td>\n",
       "      <td>0.000000</td>\n",
       "    </tr>\n",
       "    <tr>\n",
       "      <th>1678</th>\n",
       "      <td>0</td>\n",
       "      <td>0</td>\n",
       "      <td>33</td>\n",
       "      <td>0</td>\n",
       "      <td>0</td>\n",
       "      <td>0</td>\n",
       "      <td>0</td>\n",
       "      <td>0</td>\n",
       "      <td>2</td>\n",
       "      <td>1</td>\n",
       "      <td>2</td>\n",
       "      <td>0.000</td>\n",
       "      <td>1</td>\n",
       "      <td>0.876744</td>\n",
       "    </tr>\n",
       "    <tr>\n",
       "      <th>2756</th>\n",
       "      <td>11</td>\n",
       "      <td>0</td>\n",
       "      <td>40</td>\n",
       "      <td>1</td>\n",
       "      <td>2855</td>\n",
       "      <td>46</td>\n",
       "      <td>301</td>\n",
       "      <td>23</td>\n",
       "      <td>3</td>\n",
       "      <td>1</td>\n",
       "      <td>1</td>\n",
       "      <td>1320.040</td>\n",
       "      <td>0</td>\n",
       "      <td>0.010000</td>\n",
       "    </tr>\n",
       "    <tr>\n",
       "      <th>395</th>\n",
       "      <td>18</td>\n",
       "      <td>0</td>\n",
       "      <td>20</td>\n",
       "      <td>1</td>\n",
       "      <td>6573</td>\n",
       "      <td>149</td>\n",
       "      <td>96</td>\n",
       "      <td>47</td>\n",
       "      <td>2</td>\n",
       "      <td>2</td>\n",
       "      <td>1</td>\n",
       "      <td>734.490</td>\n",
       "      <td>0</td>\n",
       "      <td>0.000000</td>\n",
       "    </tr>\n",
       "    <tr>\n",
       "      <th>2560</th>\n",
       "      <td>15</td>\n",
       "      <td>0</td>\n",
       "      <td>40</td>\n",
       "      <td>3</td>\n",
       "      <td>6823</td>\n",
       "      <td>111</td>\n",
       "      <td>35</td>\n",
       "      <td>29</td>\n",
       "      <td>3</td>\n",
       "      <td>1</td>\n",
       "      <td>1</td>\n",
       "      <td>417.360</td>\n",
       "      <td>0</td>\n",
       "      <td>0.020000</td>\n",
       "    </tr>\n",
       "  </tbody>\n",
       "</table>\n",
       "</div>"
      ],
      "text/plain": [
       "      Call  Failure  Complains  Subscription  Length  Charge  Amount  \\\n",
       "1828              0          0                    29               0   \n",
       "1107             11          0                    37               2   \n",
       "1694              0          0                    15               0   \n",
       "2553             19          0                    40               3   \n",
       "2503             13          0                    37               1   \n",
       "2169             11          0                    41               2   \n",
       "1678              0          0                    33               0   \n",
       "2756             11          0                    40               1   \n",
       "395              18          0                    20               1   \n",
       "2560             15          0                    40               3   \n",
       "\n",
       "      Seconds of Use  Frequency of use  Frequency of SMS  \\\n",
       "1828               0                 0                 0   \n",
       "1107            8870               118               142   \n",
       "1694            1275                14                 0   \n",
       "2553            5103                82                29   \n",
       "2503            4323                64                 7   \n",
       "2169            7873               136               396   \n",
       "1678               0                 0                 0   \n",
       "2756            2855                46               301   \n",
       "395             6573               149                96   \n",
       "2560            6823               111                35   \n",
       "\n",
       "      Distinct Called Numbers  Age Group  Tariff Plan  Status  Customer Value  \\\n",
       "1828                        0          2            1       2           0.000   \n",
       "1107                       43          3            1       1         927.520   \n",
       "1694                        8          2            1       1          58.005   \n",
       "2553                       52          1            1       1         444.675   \n",
       "2503                       32          1            1       1         279.785   \n",
       "2169                       47          3            1       1        1904.360   \n",
       "1678                        0          2            1       2           0.000   \n",
       "2756                       23          3            1       1        1320.040   \n",
       "395                        47          2            2       1         734.490   \n",
       "2560                       29          3            1       1         417.360   \n",
       "\n",
       "      Churn Prediction  Churn Probability  \n",
       "1828                 1           0.989231  \n",
       "1107                 0           0.000000  \n",
       "1694                 1           0.590000  \n",
       "2553                 0           0.050000  \n",
       "2503                 0           0.020000  \n",
       "2169                 0           0.000000  \n",
       "1678                 1           0.876744  \n",
       "2756                 0           0.010000  \n",
       "395                  0           0.000000  \n",
       "2560                 0           0.020000  "
      ]
     },
     "execution_count": 219,
     "metadata": {},
     "output_type": "execute_result"
    }
   ],
   "source": [
    "# Predict the probabilities from model and covert to a list \n",
    "proba= rf_result.predict_proba(x_test)\n",
    "proba_list=proba.tolist()\n",
    "\n",
    "# The probability of churn is the second value in each nested loop so we want to loop through and pull that\n",
    "# value out into it's own list\n",
    "churn_prob=[]\n",
    "for item in proba_list:\n",
    "    churn_prob.append(item[1])\n",
    "\n",
    "# create a df that is copy of x_test\n",
    "df_prob= x_test.copy()\n",
    "\n",
    "# add our churn prediction and the subsequent probability of churn to the df\n",
    "df_prob['Churn Prediction']= y_pred_fin\n",
    "df_prob['Churn Probability']= churn_prob\n",
    "\n",
    "df_prob.tail(10)"
   ]
  },
  {
   "cell_type": "code",
   "execution_count": 227,
   "metadata": {},
   "outputs": [
    {
     "data": {
      "text/html": [
       "<div>\n",
       "<style scoped>\n",
       "    .dataframe tbody tr th:only-of-type {\n",
       "        vertical-align: middle;\n",
       "    }\n",
       "\n",
       "    .dataframe tbody tr th {\n",
       "        vertical-align: top;\n",
       "    }\n",
       "\n",
       "    .dataframe thead th {\n",
       "        text-align: right;\n",
       "    }\n",
       "</style>\n",
       "<table border=\"1\" class=\"dataframe\">\n",
       "  <thead>\n",
       "    <tr style=\"text-align: right;\">\n",
       "      <th></th>\n",
       "      <th>Call  Failure</th>\n",
       "      <th>Complains</th>\n",
       "      <th>Subscription  Length</th>\n",
       "      <th>Charge  Amount</th>\n",
       "      <th>Seconds of Use</th>\n",
       "      <th>Frequency of use</th>\n",
       "      <th>Frequency of SMS</th>\n",
       "      <th>Distinct Called Numbers</th>\n",
       "      <th>Age Group</th>\n",
       "      <th>Tariff Plan</th>\n",
       "      <th>Status</th>\n",
       "      <th>Customer Value</th>\n",
       "      <th>Churn Prediction</th>\n",
       "      <th>Churn Probability</th>\n",
       "    </tr>\n",
       "  </thead>\n",
       "  <tbody>\n",
       "    <tr>\n",
       "      <th>688</th>\n",
       "      <td>6</td>\n",
       "      <td>1</td>\n",
       "      <td>27</td>\n",
       "      <td>1</td>\n",
       "      <td>1505</td>\n",
       "      <td>37</td>\n",
       "      <td>202</td>\n",
       "      <td>14</td>\n",
       "      <td>2</td>\n",
       "      <td>2</td>\n",
       "      <td>1</td>\n",
       "      <td>978.390</td>\n",
       "      <td>1</td>\n",
       "      <td>0.85</td>\n",
       "    </tr>\n",
       "    <tr>\n",
       "      <th>838</th>\n",
       "      <td>6</td>\n",
       "      <td>1</td>\n",
       "      <td>32</td>\n",
       "      <td>2</td>\n",
       "      <td>1315</td>\n",
       "      <td>42</td>\n",
       "      <td>201</td>\n",
       "      <td>12</td>\n",
       "      <td>3</td>\n",
       "      <td>2</td>\n",
       "      <td>1</td>\n",
       "      <td>858.280</td>\n",
       "      <td>1</td>\n",
       "      <td>0.73</td>\n",
       "    </tr>\n",
       "    <tr>\n",
       "      <th>1024</th>\n",
       "      <td>13</td>\n",
       "      <td>1</td>\n",
       "      <td>36</td>\n",
       "      <td>1</td>\n",
       "      <td>5818</td>\n",
       "      <td>98</td>\n",
       "      <td>26</td>\n",
       "      <td>24</td>\n",
       "      <td>2</td>\n",
       "      <td>1</td>\n",
       "      <td>1</td>\n",
       "      <td>383.220</td>\n",
       "      <td>1</td>\n",
       "      <td>0.98</td>\n",
       "    </tr>\n",
       "    <tr>\n",
       "      <th>974</th>\n",
       "      <td>13</td>\n",
       "      <td>0</td>\n",
       "      <td>36</td>\n",
       "      <td>1</td>\n",
       "      <td>5818</td>\n",
       "      <td>98</td>\n",
       "      <td>26</td>\n",
       "      <td>24</td>\n",
       "      <td>2</td>\n",
       "      <td>1</td>\n",
       "      <td>1</td>\n",
       "      <td>383.220</td>\n",
       "      <td>1</td>\n",
       "      <td>0.97</td>\n",
       "    </tr>\n",
       "    <tr>\n",
       "      <th>2324</th>\n",
       "      <td>17</td>\n",
       "      <td>0</td>\n",
       "      <td>34</td>\n",
       "      <td>1</td>\n",
       "      <td>6043</td>\n",
       "      <td>102</td>\n",
       "      <td>23</td>\n",
       "      <td>22</td>\n",
       "      <td>2</td>\n",
       "      <td>1</td>\n",
       "      <td>1</td>\n",
       "      <td>380.025</td>\n",
       "      <td>1</td>\n",
       "      <td>0.69</td>\n",
       "    </tr>\n",
       "    <tr>\n",
       "      <th>2524</th>\n",
       "      <td>16</td>\n",
       "      <td>0</td>\n",
       "      <td>35</td>\n",
       "      <td>2</td>\n",
       "      <td>5943</td>\n",
       "      <td>96</td>\n",
       "      <td>22</td>\n",
       "      <td>21</td>\n",
       "      <td>2</td>\n",
       "      <td>1</td>\n",
       "      <td>1</td>\n",
       "      <td>370.755</td>\n",
       "      <td>1</td>\n",
       "      <td>0.81</td>\n",
       "    </tr>\n",
       "    <tr>\n",
       "      <th>124</th>\n",
       "      <td>10</td>\n",
       "      <td>0</td>\n",
       "      <td>34</td>\n",
       "      <td>0</td>\n",
       "      <td>5758</td>\n",
       "      <td>95</td>\n",
       "      <td>21</td>\n",
       "      <td>22</td>\n",
       "      <td>2</td>\n",
       "      <td>1</td>\n",
       "      <td>1</td>\n",
       "      <td>357.885</td>\n",
       "      <td>1</td>\n",
       "      <td>0.96</td>\n",
       "    </tr>\n",
       "    <tr>\n",
       "      <th>2424</th>\n",
       "      <td>13</td>\n",
       "      <td>0</td>\n",
       "      <td>32</td>\n",
       "      <td>1</td>\n",
       "      <td>5863</td>\n",
       "      <td>94</td>\n",
       "      <td>18</td>\n",
       "      <td>20</td>\n",
       "      <td>2</td>\n",
       "      <td>1</td>\n",
       "      <td>1</td>\n",
       "      <td>349.065</td>\n",
       "      <td>1</td>\n",
       "      <td>0.97</td>\n",
       "    </tr>\n",
       "    <tr>\n",
       "      <th>774</th>\n",
       "      <td>11</td>\n",
       "      <td>0</td>\n",
       "      <td>31</td>\n",
       "      <td>0</td>\n",
       "      <td>5818</td>\n",
       "      <td>92</td>\n",
       "      <td>18</td>\n",
       "      <td>23</td>\n",
       "      <td>2</td>\n",
       "      <td>1</td>\n",
       "      <td>1</td>\n",
       "      <td>346.950</td>\n",
       "      <td>1</td>\n",
       "      <td>0.88</td>\n",
       "    </tr>\n",
       "    <tr>\n",
       "      <th>2074</th>\n",
       "      <td>8</td>\n",
       "      <td>0</td>\n",
       "      <td>34</td>\n",
       "      <td>0</td>\n",
       "      <td>5513</td>\n",
       "      <td>92</td>\n",
       "      <td>19</td>\n",
       "      <td>22</td>\n",
       "      <td>2</td>\n",
       "      <td>1</td>\n",
       "      <td>1</td>\n",
       "      <td>337.725</td>\n",
       "      <td>1</td>\n",
       "      <td>1.00</td>\n",
       "    </tr>\n",
       "    <tr>\n",
       "      <th>477</th>\n",
       "      <td>13</td>\n",
       "      <td>1</td>\n",
       "      <td>36</td>\n",
       "      <td>0</td>\n",
       "      <td>2868</td>\n",
       "      <td>54</td>\n",
       "      <td>55</td>\n",
       "      <td>46</td>\n",
       "      <td>3</td>\n",
       "      <td>1</td>\n",
       "      <td>2</td>\n",
       "      <td>336.880</td>\n",
       "      <td>1</td>\n",
       "      <td>0.96</td>\n",
       "    </tr>\n",
       "    <tr>\n",
       "      <th>1174</th>\n",
       "      <td>5</td>\n",
       "      <td>1</td>\n",
       "      <td>32</td>\n",
       "      <td>0</td>\n",
       "      <td>5453</td>\n",
       "      <td>89</td>\n",
       "      <td>14</td>\n",
       "      <td>20</td>\n",
       "      <td>2</td>\n",
       "      <td>1</td>\n",
       "      <td>1</td>\n",
       "      <td>312.390</td>\n",
       "      <td>1</td>\n",
       "      <td>0.86</td>\n",
       "    </tr>\n",
       "    <tr>\n",
       "      <th>324</th>\n",
       "      <td>8</td>\n",
       "      <td>1</td>\n",
       "      <td>30</td>\n",
       "      <td>0</td>\n",
       "      <td>5558</td>\n",
       "      <td>88</td>\n",
       "      <td>11</td>\n",
       "      <td>18</td>\n",
       "      <td>2</td>\n",
       "      <td>1</td>\n",
       "      <td>1</td>\n",
       "      <td>303.570</td>\n",
       "      <td>1</td>\n",
       "      <td>1.00</td>\n",
       "    </tr>\n",
       "    <tr>\n",
       "      <th>576</th>\n",
       "      <td>9</td>\n",
       "      <td>1</td>\n",
       "      <td>36</td>\n",
       "      <td>0</td>\n",
       "      <td>3105</td>\n",
       "      <td>47</td>\n",
       "      <td>41</td>\n",
       "      <td>20</td>\n",
       "      <td>3</td>\n",
       "      <td>1</td>\n",
       "      <td>2</td>\n",
       "      <td>290.080</td>\n",
       "      <td>1</td>\n",
       "      <td>0.93</td>\n",
       "    </tr>\n",
       "    <tr>\n",
       "      <th>1774</th>\n",
       "      <td>6</td>\n",
       "      <td>0</td>\n",
       "      <td>34</td>\n",
       "      <td>0</td>\n",
       "      <td>5323</td>\n",
       "      <td>91</td>\n",
       "      <td>10</td>\n",
       "      <td>19</td>\n",
       "      <td>2</td>\n",
       "      <td>1</td>\n",
       "      <td>1</td>\n",
       "      <td>288.630</td>\n",
       "      <td>1</td>\n",
       "      <td>0.92</td>\n",
       "    </tr>\n",
       "    <tr>\n",
       "      <th>2672</th>\n",
       "      <td>28</td>\n",
       "      <td>1</td>\n",
       "      <td>36</td>\n",
       "      <td>0</td>\n",
       "      <td>1375</td>\n",
       "      <td>59</td>\n",
       "      <td>55</td>\n",
       "      <td>23</td>\n",
       "      <td>3</td>\n",
       "      <td>1</td>\n",
       "      <td>2</td>\n",
       "      <td>277.360</td>\n",
       "      <td>1</td>\n",
       "      <td>0.88</td>\n",
       "    </tr>\n",
       "    <tr>\n",
       "      <th>2376</th>\n",
       "      <td>19</td>\n",
       "      <td>1</td>\n",
       "      <td>43</td>\n",
       "      <td>0</td>\n",
       "      <td>3555</td>\n",
       "      <td>57</td>\n",
       "      <td>31</td>\n",
       "      <td>24</td>\n",
       "      <td>3</td>\n",
       "      <td>1</td>\n",
       "      <td>2</td>\n",
       "      <td>268.480</td>\n",
       "      <td>1</td>\n",
       "      <td>0.91</td>\n",
       "    </tr>\n",
       "    <tr>\n",
       "      <th>476</th>\n",
       "      <td>13</td>\n",
       "      <td>1</td>\n",
       "      <td>35</td>\n",
       "      <td>0</td>\n",
       "      <td>3590</td>\n",
       "      <td>51</td>\n",
       "      <td>30</td>\n",
       "      <td>31</td>\n",
       "      <td>3</td>\n",
       "      <td>1</td>\n",
       "      <td>2</td>\n",
       "      <td>265.640</td>\n",
       "      <td>1</td>\n",
       "      <td>0.97</td>\n",
       "    </tr>\n",
       "    <tr>\n",
       "      <th>624</th>\n",
       "      <td>13</td>\n",
       "      <td>1</td>\n",
       "      <td>35</td>\n",
       "      <td>0</td>\n",
       "      <td>5703</td>\n",
       "      <td>92</td>\n",
       "      <td>0</td>\n",
       "      <td>20</td>\n",
       "      <td>2</td>\n",
       "      <td>1</td>\n",
       "      <td>1</td>\n",
       "      <td>260.775</td>\n",
       "      <td>1</td>\n",
       "      <td>0.81</td>\n",
       "    </tr>\n",
       "    <tr>\n",
       "      <th>1327</th>\n",
       "      <td>9</td>\n",
       "      <td>0</td>\n",
       "      <td>40</td>\n",
       "      <td>0</td>\n",
       "      <td>2223</td>\n",
       "      <td>48</td>\n",
       "      <td>42</td>\n",
       "      <td>35</td>\n",
       "      <td>3</td>\n",
       "      <td>1</td>\n",
       "      <td>2</td>\n",
       "      <td>258.840</td>\n",
       "      <td>1</td>\n",
       "      <td>0.70</td>\n",
       "    </tr>\n",
       "    <tr>\n",
       "      <th>1374</th>\n",
       "      <td>3</td>\n",
       "      <td>0</td>\n",
       "      <td>28</td>\n",
       "      <td>0</td>\n",
       "      <td>5253</td>\n",
       "      <td>82</td>\n",
       "      <td>4</td>\n",
       "      <td>16</td>\n",
       "      <td>2</td>\n",
       "      <td>1</td>\n",
       "      <td>1</td>\n",
       "      <td>258.075</td>\n",
       "      <td>1</td>\n",
       "      <td>0.75</td>\n",
       "    </tr>\n",
       "    <tr>\n",
       "      <th>1526</th>\n",
       "      <td>8</td>\n",
       "      <td>0</td>\n",
       "      <td>33</td>\n",
       "      <td>0</td>\n",
       "      <td>3285</td>\n",
       "      <td>45</td>\n",
       "      <td>23</td>\n",
       "      <td>29</td>\n",
       "      <td>2</td>\n",
       "      <td>1</td>\n",
       "      <td>2</td>\n",
       "      <td>253.350</td>\n",
       "      <td>1</td>\n",
       "      <td>0.80</td>\n",
       "    </tr>\n",
       "    <tr>\n",
       "      <th>2476</th>\n",
       "      <td>16</td>\n",
       "      <td>1</td>\n",
       "      <td>40</td>\n",
       "      <td>0</td>\n",
       "      <td>3475</td>\n",
       "      <td>55</td>\n",
       "      <td>27</td>\n",
       "      <td>23</td>\n",
       "      <td>3</td>\n",
       "      <td>1</td>\n",
       "      <td>2</td>\n",
       "      <td>249.200</td>\n",
       "      <td>1</td>\n",
       "      <td>0.96</td>\n",
       "    </tr>\n",
       "    <tr>\n",
       "      <th>2776</th>\n",
       "      <td>16</td>\n",
       "      <td>1</td>\n",
       "      <td>37</td>\n",
       "      <td>0</td>\n",
       "      <td>3485</td>\n",
       "      <td>48</td>\n",
       "      <td>25</td>\n",
       "      <td>21</td>\n",
       "      <td>3</td>\n",
       "      <td>1</td>\n",
       "      <td>2</td>\n",
       "      <td>241.320</td>\n",
       "      <td>1</td>\n",
       "      <td>1.00</td>\n",
       "    </tr>\n",
       "    <tr>\n",
       "      <th>1427</th>\n",
       "      <td>6</td>\n",
       "      <td>1</td>\n",
       "      <td>37</td>\n",
       "      <td>0</td>\n",
       "      <td>2143</td>\n",
       "      <td>46</td>\n",
       "      <td>38</td>\n",
       "      <td>34</td>\n",
       "      <td>3</td>\n",
       "      <td>1</td>\n",
       "      <td>2</td>\n",
       "      <td>239.560</td>\n",
       "      <td>1</td>\n",
       "      <td>0.98</td>\n",
       "    </tr>\n",
       "    <tr>\n",
       "      <th>572</th>\n",
       "      <td>23</td>\n",
       "      <td>1</td>\n",
       "      <td>34</td>\n",
       "      <td>0</td>\n",
       "      <td>1070</td>\n",
       "      <td>53</td>\n",
       "      <td>48</td>\n",
       "      <td>21</td>\n",
       "      <td>3</td>\n",
       "      <td>1</td>\n",
       "      <td>2</td>\n",
       "      <td>236.920</td>\n",
       "      <td>1</td>\n",
       "      <td>0.85</td>\n",
       "    </tr>\n",
       "    <tr>\n",
       "      <th>2699</th>\n",
       "      <td>8</td>\n",
       "      <td>1</td>\n",
       "      <td>12</td>\n",
       "      <td>3</td>\n",
       "      <td>1908</td>\n",
       "      <td>31</td>\n",
       "      <td>39</td>\n",
       "      <td>13</td>\n",
       "      <td>3</td>\n",
       "      <td>1</td>\n",
       "      <td>1</td>\n",
       "      <td>233.560</td>\n",
       "      <td>1</td>\n",
       "      <td>0.66</td>\n",
       "    </tr>\n",
       "    <tr>\n",
       "      <th>977</th>\n",
       "      <td>9</td>\n",
       "      <td>0</td>\n",
       "      <td>36</td>\n",
       "      <td>0</td>\n",
       "      <td>2268</td>\n",
       "      <td>44</td>\n",
       "      <td>34</td>\n",
       "      <td>31</td>\n",
       "      <td>3</td>\n",
       "      <td>1</td>\n",
       "      <td>2</td>\n",
       "      <td>228.480</td>\n",
       "      <td>1</td>\n",
       "      <td>1.00</td>\n",
       "    </tr>\n",
       "    <tr>\n",
       "      <th>276</th>\n",
       "      <td>14</td>\n",
       "      <td>1</td>\n",
       "      <td>41</td>\n",
       "      <td>0</td>\n",
       "      <td>3250</td>\n",
       "      <td>51</td>\n",
       "      <td>24</td>\n",
       "      <td>22</td>\n",
       "      <td>3</td>\n",
       "      <td>1</td>\n",
       "      <td>2</td>\n",
       "      <td>228.040</td>\n",
       "      <td>1</td>\n",
       "      <td>0.97</td>\n",
       "    </tr>\n",
       "  </tbody>\n",
       "</table>\n",
       "</div>"
      ],
      "text/plain": [
       "      Call  Failure  Complains  Subscription  Length  Charge  Amount  \\\n",
       "688               6          1                    27               1   \n",
       "838               6          1                    32               2   \n",
       "1024             13          1                    36               1   \n",
       "974              13          0                    36               1   \n",
       "2324             17          0                    34               1   \n",
       "2524             16          0                    35               2   \n",
       "124              10          0                    34               0   \n",
       "2424             13          0                    32               1   \n",
       "774              11          0                    31               0   \n",
       "2074              8          0                    34               0   \n",
       "477              13          1                    36               0   \n",
       "1174              5          1                    32               0   \n",
       "324               8          1                    30               0   \n",
       "576               9          1                    36               0   \n",
       "1774              6          0                    34               0   \n",
       "2672             28          1                    36               0   \n",
       "2376             19          1                    43               0   \n",
       "476              13          1                    35               0   \n",
       "624              13          1                    35               0   \n",
       "1327              9          0                    40               0   \n",
       "1374              3          0                    28               0   \n",
       "1526              8          0                    33               0   \n",
       "2476             16          1                    40               0   \n",
       "2776             16          1                    37               0   \n",
       "1427              6          1                    37               0   \n",
       "572              23          1                    34               0   \n",
       "2699              8          1                    12               3   \n",
       "977               9          0                    36               0   \n",
       "276              14          1                    41               0   \n",
       "\n",
       "      Seconds of Use  Frequency of use  Frequency of SMS  \\\n",
       "688             1505                37               202   \n",
       "838             1315                42               201   \n",
       "1024            5818                98                26   \n",
       "974             5818                98                26   \n",
       "2324            6043               102                23   \n",
       "2524            5943                96                22   \n",
       "124             5758                95                21   \n",
       "2424            5863                94                18   \n",
       "774             5818                92                18   \n",
       "2074            5513                92                19   \n",
       "477             2868                54                55   \n",
       "1174            5453                89                14   \n",
       "324             5558                88                11   \n",
       "576             3105                47                41   \n",
       "1774            5323                91                10   \n",
       "2672            1375                59                55   \n",
       "2376            3555                57                31   \n",
       "476             3590                51                30   \n",
       "624             5703                92                 0   \n",
       "1327            2223                48                42   \n",
       "1374            5253                82                 4   \n",
       "1526            3285                45                23   \n",
       "2476            3475                55                27   \n",
       "2776            3485                48                25   \n",
       "1427            2143                46                38   \n",
       "572             1070                53                48   \n",
       "2699            1908                31                39   \n",
       "977             2268                44                34   \n",
       "276             3250                51                24   \n",
       "\n",
       "      Distinct Called Numbers  Age Group  Tariff Plan  Status  Customer Value  \\\n",
       "688                        14          2            2       1         978.390   \n",
       "838                        12          3            2       1         858.280   \n",
       "1024                       24          2            1       1         383.220   \n",
       "974                        24          2            1       1         383.220   \n",
       "2324                       22          2            1       1         380.025   \n",
       "2524                       21          2            1       1         370.755   \n",
       "124                        22          2            1       1         357.885   \n",
       "2424                       20          2            1       1         349.065   \n",
       "774                        23          2            1       1         346.950   \n",
       "2074                       22          2            1       1         337.725   \n",
       "477                        46          3            1       2         336.880   \n",
       "1174                       20          2            1       1         312.390   \n",
       "324                        18          2            1       1         303.570   \n",
       "576                        20          3            1       2         290.080   \n",
       "1774                       19          2            1       1         288.630   \n",
       "2672                       23          3            1       2         277.360   \n",
       "2376                       24          3            1       2         268.480   \n",
       "476                        31          3            1       2         265.640   \n",
       "624                        20          2            1       1         260.775   \n",
       "1327                       35          3            1       2         258.840   \n",
       "1374                       16          2            1       1         258.075   \n",
       "1526                       29          2            1       2         253.350   \n",
       "2476                       23          3            1       2         249.200   \n",
       "2776                       21          3            1       2         241.320   \n",
       "1427                       34          3            1       2         239.560   \n",
       "572                        21          3            1       2         236.920   \n",
       "2699                       13          3            1       1         233.560   \n",
       "977                        31          3            1       2         228.480   \n",
       "276                        22          3            1       2         228.040   \n",
       "\n",
       "      Churn Prediction  Churn Probability  \n",
       "688                  1               0.85  \n",
       "838                  1               0.73  \n",
       "1024                 1               0.98  \n",
       "974                  1               0.97  \n",
       "2324                 1               0.69  \n",
       "2524                 1               0.81  \n",
       "124                  1               0.96  \n",
       "2424                 1               0.97  \n",
       "774                  1               0.88  \n",
       "2074                 1               1.00  \n",
       "477                  1               0.96  \n",
       "1174                 1               0.86  \n",
       "324                  1               1.00  \n",
       "576                  1               0.93  \n",
       "1774                 1               0.92  \n",
       "2672                 1               0.88  \n",
       "2376                 1               0.91  \n",
       "476                  1               0.97  \n",
       "624                  1               0.81  \n",
       "1327                 1               0.70  \n",
       "1374                 1               0.75  \n",
       "1526                 1               0.80  \n",
       "2476                 1               0.96  \n",
       "2776                 1               1.00  \n",
       "1427                 1               0.98  \n",
       "572                  1               0.85  \n",
       "2699                 1               0.66  \n",
       "977                  1               1.00  \n",
       "276                  1               0.97  "
      ]
     },
     "execution_count": 227,
     "metadata": {},
     "output_type": "execute_result"
    }
   ],
   "source": [
    "# Ideally we want to intervene when we have high value customers who are at risk of churns\n",
    "# Here we will pull out just those cutomers\n",
    "# Etablish a reference point for above average value customers\n",
    "median_value= df_prob['Customer Value'].median()\n",
    "# Establish a point for what it means to be at high risk of churning\n",
    "high_prob= 0.65\n",
    "\n",
    "# Create a df of just those who are of above avergae value and are at high risk of churning\n",
    "high_risk_df= df_prob[(df_prob['Customer Value'] >= median_value) & (df_prob['Churn Probability'] > high_prob)].sort_values(by='Customer Value', ascending=False)\n",
    "high_risk_df"
   ]
  },
  {
   "cell_type": "code",
   "execution_count": null,
   "metadata": {},
   "outputs": [],
   "source": []
  },
  {
   "cell_type": "markdown",
   "metadata": {},
   "source": [
    "## Factors Contributing to Churn"
   ]
  },
  {
   "cell_type": "code",
   "execution_count": 236,
   "metadata": {},
   "outputs": [
    {
     "name": "stdout",
     "output_type": "stream",
     "text": [
      "Optimization terminated successfully.\n",
      "         Current function value: 0.221433\n",
      "         Iterations 9\n",
      "                            Results: Logit\n",
      "=======================================================================\n",
      "Model:                 Logit             Pseudo R-squared:  0.491      \n",
      "Dependent Variable:    y                 AIC:               1419.0282  \n",
      "Date:                  2020-08-28 16:20  BIC:               1491.6901  \n",
      "No. Observations:      3150              Log-Likelihood:    -697.51    \n",
      "Df Model:              11                LL-Null:           -1369.9    \n",
      "Df Residuals:          3138              LLR p-value:       9.4980e-282\n",
      "Converged:             1.0000            Scale:             1.0000     \n",
      "No. Iterations:        9.0000                                          \n",
      "-----------------------------------------------------------------------\n",
      "                         Coef.  Std.Err.    z    P>|z|   [0.025  0.975]\n",
      "-----------------------------------------------------------------------\n",
      "Call  Failure            0.1276   0.0176  7.2562 0.0000  0.0932  0.1621\n",
      "Complains                4.1727   0.2964 14.0770 0.0000  3.5918  4.7537\n",
      "Subscription  Length    -0.0338   0.0094 -3.6072 0.0003 -0.0521 -0.0154\n",
      "Charge  Amount          -0.3749   0.1183 -3.1681 0.0015 -0.6069 -0.1430\n",
      "Seconds of Use           0.0001   0.0001  0.9096 0.3630 -0.0002  0.0004\n",
      "Frequency of use        -0.0522   0.0084 -6.1839 0.0000 -0.0688 -0.0357\n",
      "Frequency of SMS        -0.0366   0.0121 -3.0179 0.0025 -0.0604 -0.0128\n",
      "Distinct Called Numbers -0.0146   0.0096 -1.5203 0.1284 -0.0335  0.0042\n",
      "Age Group               -0.0115   0.1061 -0.1083 0.9137 -0.2194  0.1964\n",
      "Tariff Plan             -1.5952   0.4342 -3.6739 0.0002 -2.4461 -0.7442\n",
      "Status                   1.2389   0.1942  6.3784 0.0000  0.8582  1.6196\n",
      "Customer Value           0.0063   0.0029  2.1891 0.0286  0.0007  0.0119\n",
      "=======================================================================\n",
      "\n"
     ]
    }
   ],
   "source": [
    "import statsmodels.api as sm\n",
    "logit_model=sm.Logit(y,X)\n",
    "result=logit_model.fit()\n",
    "summary= result.summary2()\n",
    "print(summary)\n"
   ]
  },
  {
   "cell_type": "code",
   "execution_count": 241,
   "metadata": {},
   "outputs": [
    {
     "data": {
      "text/plain": [
       "Call  Failure               1.136135\n",
       "Complains                  64.892254\n",
       "Subscription  Length        0.966788\n",
       "Charge  Amount              0.687326\n",
       "Seconds of Use              1.000136\n",
       "Frequency of use            0.949124\n",
       "Frequency of SMS            0.964038\n",
       "Distinct Called Numbers     0.985489\n",
       "Age Group                   0.988573\n",
       "Tariff Plan                 0.202877\n",
       "Status                      3.451860\n",
       "Customer Value              1.006282\n",
       "dtype: float64"
      ]
     },
     "execution_count": 241,
     "metadata": {},
     "output_type": "execute_result"
    }
   ],
   "source": [
    "np.exp(result.params)"
   ]
  },
  {
   "cell_type": "code",
   "execution_count": null,
   "metadata": {},
   "outputs": [],
   "source": []
  }
 ],
 "metadata": {
  "kernelspec": {
   "display_name": "Python 3",
   "language": "python",
   "name": "python3"
  },
  "language_info": {
   "codemirror_mode": {
    "name": "ipython",
    "version": 3
   },
   "file_extension": ".py",
   "mimetype": "text/x-python",
   "name": "python",
   "nbconvert_exporter": "python",
   "pygments_lexer": "ipython3",
   "version": "3.7.4"
  }
 },
 "nbformat": 4,
 "nbformat_minor": 2
}
